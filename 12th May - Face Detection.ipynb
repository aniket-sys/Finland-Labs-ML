{
 "cells": [
  {
   "cell_type": "code",
   "execution_count": 1,
   "metadata": {},
   "outputs": [],
   "source": [
    "import cv2"
   ]
  },
  {
   "cell_type": "code",
   "execution_count": 2,
   "metadata": {},
   "outputs": [],
   "source": [
    "img = cv2.imread('faces.jpg')\n",
    "cv2.imshow('Faces',img)\n",
    "cv2.waitKey(0)\n",
    "cv2.destroyAllWindows()"
   ]
  },
  {
   "cell_type": "code",
   "execution_count": 6,
   "metadata": {},
   "outputs": [],
   "source": [
    "## Face Detection\n",
    "img = cv2.imread('faces.jpg')\n",
    "face_cascade = cv2.CascadeClassifier('face.xml')\n",
    "faces = face_cascade.detectMultiScale(img)\n",
    "for x,y,w,h in faces:\n",
    "    cv2.rectangle(img,(x,y),(x+w,y+h),(255,0,0),3)\n",
    "cv2.imshow('Faces',img)\n",
    "cv2.waitKey(0)\n",
    "cv2.destroyAllWindows()"
   ]
  },
  {
   "cell_type": "code",
   "execution_count": 10,
   "metadata": {},
   "outputs": [],
   "source": [
    "## Face Detection\n",
    "import numpy as np\n",
    "img = cv2.imread('faces.jpg')\n",
    "face_cascade = cv2.CascadeClassifier('face.xml')\n",
    "faces = face_cascade.detectMultiScale(img)\n",
    "for x,y,w,h in faces:\n",
    "    radius = int((np.sqrt((w**2)+(h**2)))/2)\n",
    "    center = (int((x+x+w)/2),int((y+y+h)/2))\n",
    "    cv2.circle(img,center,radius-10,(255,0,0),3)\n",
    "cv2.imshow('Faces',img)\n",
    "cv2.waitKey(0)\n",
    "cv2.destroyAllWindows()"
   ]
  },
  {
   "cell_type": "code",
   "execution_count": 32,
   "metadata": {},
   "outputs": [],
   "source": [
    "### Eye Detection\n",
    "img = cv2.imread('faces.jpg')\n",
    "face_cascade = cv2.CascadeClassifier('face.xml')\n",
    "eye_cascade = cv2.CascadeClassifier('eye.xml')\n",
    "faces = face_cascade.detectMultiScale(img,1.18)\n",
    "for x,y,w,h in faces:\n",
    "    cv2.rectangle(img,(x,y),(x+w,y+h),(255,0,0),3)\n",
    "    single_face = img[y:y+h,x:x+w]\n",
    "    eyes = eye_cascade.detectMultiScale(single_face,1.20)\n",
    "    for ex,ey,ew,eh in eyes:\n",
    "        cv2.rectangle(single_face,(ex,ey),(ex+ew,ey+eh),(0,0,255),2)\n",
    "cv2.imshow('Faces',img)\n",
    "cv2.waitKey(0)\n",
    "cv2.destroyAllWindows()"
   ]
  },
  {
   "cell_type": "markdown",
   "metadata": {},
   "source": [
    "#### Webcam"
   ]
  },
  {
   "cell_type": "code",
   "execution_count": 35,
   "metadata": {},
   "outputs": [],
   "source": [
    "import cv2\n",
    "cam = cv2.VideoCapture(0)\n",
    "while True:\n",
    "    ret,img = cam.read()\n",
    "    img = cv2.flip(img,1)\n",
    "    cv2.imshow(\"Webcam\",img)\n",
    "    if cv2.waitKey(1) == 13:   ### 13 is the ASCII Code for Enter Key\n",
    "        break\n",
    "cam.release()\n",
    "cv2.destroyAllWindows()"
   ]
  },
  {
   "cell_type": "code",
   "execution_count": 36,
   "metadata": {},
   "outputs": [],
   "source": [
    "### Detect Face\n",
    "import cv2\n",
    "cam = cv2.VideoCapture(0)\n",
    "face_cascade = cv2.CascadeClassifier('face.xml')\n",
    "while True:\n",
    "    ret,img = cam.read()\n",
    "    img = cv2.flip(img,1)\n",
    "    faces = face_cascade.detectMultiScale(img)\n",
    "    for x,y,w,h in faces:\n",
    "        cv2.rectangle(img,(x,y),(x+w,y+h),(255,0,0),2)\n",
    "    cv2.imshow(\"Webcam\",img)\n",
    "    if cv2.waitKey(1) == 13:   ### 13 is the ASCII Code for Enter Key\n",
    "        break\n",
    "cam.release()\n",
    "cv2.destroyAllWindows()"
   ]
  },
  {
   "cell_type": "code",
   "execution_count": 37,
   "metadata": {},
   "outputs": [],
   "source": [
    "### Detect Face and save\n",
    "import cv2\n",
    "import time\n",
    "cam = cv2.VideoCapture(0)\n",
    "face_cascade = cv2.CascadeClassifier('face.xml')\n",
    "path = r\"C:\\Users\\UMANG KEJRIWAL\\Desktop\\Open CV\\samples\"\n",
    "while True:\n",
    "    ret,img = cam.read()\n",
    "    img = cv2.flip(img,1)\n",
    "    faces = face_cascade.detectMultiScale(img)\n",
    "    for x,y,w,h in faces:\n",
    "        cv2.rectangle(img,(x,y),(x+w,y+h),(255,0,0),2)\n",
    "        for i in range(51):\n",
    "            img_name = path+\"\\img\"+str(i)+\".jpg\"\n",
    "            cv2.imwrite(img_name,img[y:y+h,x:x+w])\n",
    "    cv2.imshow(\"Webcam\",img)\n",
    "    if cv2.waitKey(1) == 13:   ### 13 is the ASCII Code for Enter Key\n",
    "        break\n",
    "cam.release()\n",
    "cv2.destroyAllWindows()"
   ]
  },
  {
   "cell_type": "code",
   "execution_count": 38,
   "metadata": {
    "collapsed": true
   },
   "outputs": [
    {
     "ename": "KeyboardInterrupt",
     "evalue": "",
     "output_type": "error",
     "traceback": [
      "\u001b[1;31m---------------------------------------------------------------------------\u001b[0m",
      "\u001b[1;31mKeyboardInterrupt\u001b[0m                         Traceback (most recent call last)",
      "\u001b[1;32m<ipython-input-38-d60d21274cd3>\u001b[0m in \u001b[0;36m<module>\u001b[1;34m\u001b[0m\n\u001b[0;32m      2\u001b[0m \u001b[1;32mimport\u001b[0m \u001b[0mcv2\u001b[0m\u001b[1;33m\u001b[0m\u001b[1;33m\u001b[0m\u001b[0m\n\u001b[0;32m      3\u001b[0m \u001b[1;32mimport\u001b[0m \u001b[0mtime\u001b[0m\u001b[1;33m\u001b[0m\u001b[1;33m\u001b[0m\u001b[0m\n\u001b[1;32m----> 4\u001b[1;33m \u001b[0mcam\u001b[0m \u001b[1;33m=\u001b[0m \u001b[0mcv2\u001b[0m\u001b[1;33m.\u001b[0m\u001b[0mVideoCapture\u001b[0m\u001b[1;33m(\u001b[0m\u001b[1;36m0\u001b[0m\u001b[1;33m)\u001b[0m\u001b[1;33m\u001b[0m\u001b[1;33m\u001b[0m\u001b[0m\n\u001b[0m\u001b[0;32m      5\u001b[0m \u001b[0mface_cascade\u001b[0m \u001b[1;33m=\u001b[0m \u001b[0mcv2\u001b[0m\u001b[1;33m.\u001b[0m\u001b[0mCascadeClassifier\u001b[0m\u001b[1;33m(\u001b[0m\u001b[1;34m'face.xml'\u001b[0m\u001b[1;33m)\u001b[0m\u001b[1;33m\u001b[0m\u001b[1;33m\u001b[0m\u001b[0m\n\u001b[0;32m      6\u001b[0m \u001b[0mpath\u001b[0m \u001b[1;33m=\u001b[0m \u001b[1;34mr\"C:\\Users\\UMANG KEJRIWAL\\Desktop\\Open CV\\samples\"\u001b[0m\u001b[1;33m\u001b[0m\u001b[1;33m\u001b[0m\u001b[0m\n",
      "\u001b[1;31mKeyboardInterrupt\u001b[0m: "
     ]
    }
   ],
   "source": [
    "### Detect Face and save\n",
    "import cv2\n",
    "import time\n",
    "cam = cv2.VideoCapture(0)\n",
    "face_cascade = cv2.CascadeClassifier('face.xml')\n",
    "path = r\"C:\\Users\\UMANG KEJRIWAL\\Desktop\\Open CV\\samples\"\n",
    "i=0\n",
    "while True:\n",
    "    ret,img = cam.read()\n",
    "    img = cv2.flip(img,1)\n",
    "    faces = face_cascade.detectMultiScale(img)\n",
    "    for x,y,w,h in faces:\n",
    "        cv2.rectangle(img,(x,y),(x+w,y+h),(255,0,0),2)\n",
    "        i = i+1\n",
    "        if i <= 51:\n",
    "            img_name = path+\"\\img\"+str(i)+\".jpg\"\n",
    "            cv2.imwrite(img_name,img[y:y+h,x:x+w])\n",
    "    cv2.imshow(\"Webcam\",img)\n",
    "    if cv2.waitKey(1) == 13:   ### 13 is the ASCII Code for Enter Key\n",
    "        break\n",
    "cam.release()\n",
    "cv2.destroyAllWindows()"
   ]
  },
  {
   "cell_type": "code",
   "execution_count": 42,
   "metadata": {},
   "outputs": [],
   "source": [
    "### Detect Object by Color (Blue)\n",
    "## HSV - Hue Saturation Value\n",
    "import cv2\n",
    "import numpy as np\n",
    "cam = cv2.VideoCapture(0)\n",
    "while True:\n",
    "    ret,img = cam.read()\n",
    "    img = cv2.flip(img,1)\n",
    "    hsv = cv2.cvtColor(img,cv2.COLOR_BGR2HSV)\n",
    "    low = np.array([100,50,50])\n",
    "    high = np.array([140,255,255])\n",
    "    img_mask = cv2.inRange(hsv,low,high)\n",
    "    final_image = cv2.bitwise_and(img,img,mask=img_mask)\n",
    "    cv2.imshow(\"Final Image\",final_image)\n",
    "    cv2.imshow(\"Mask Image\",img_mask)\n",
    "    cv2.imshow(\"HSV\",hsv)\n",
    "    cv2.imshow(\"Original\",img)\n",
    "    if cv2.waitKey(1) == 13:   ### 13 is the ASCII Code for Enter Key\n",
    "        break\n",
    "cam.release()\n",
    "cv2.destroyAllWindows()"
   ]
  },
  {
   "cell_type": "code",
   "execution_count": 43,
   "metadata": {},
   "outputs": [],
   "source": [
    "### Detect Object by Color (Green)\n",
    "## HSV - Hue Saturation Value\n",
    "import cv2\n",
    "import numpy as np\n",
    "cam = cv2.VideoCapture(0)\n",
    "while True:\n",
    "    ret,img = cam.read()\n",
    "    img = cv2.flip(img,1)\n",
    "    hsv = cv2.cvtColor(img,cv2.COLOR_BGR2HSV)\n",
    "    low = np.array([40,50,50])\n",
    "    high = np.array([80,255,255])\n",
    "    img_mask = cv2.inRange(hsv,low,high)\n",
    "    final_image = cv2.bitwise_and(img,img,mask=img_mask)\n",
    "    cv2.imshow(\"Final Image\",final_image)\n",
    "    cv2.imshow(\"Mask Image\",img_mask)\n",
    "    cv2.imshow(\"HSV\",hsv)\n",
    "    cv2.imshow(\"Original\",img)\n",
    "    if cv2.waitKey(1) == 13:   ### 13 is the ASCII Code for Enter Key\n",
    "        break\n",
    "cam.release()\n",
    "cv2.destroyAllWindows()"
   ]
  },
  {
   "cell_type": "code",
   "execution_count": 44,
   "metadata": {},
   "outputs": [],
   "source": [
    "### Detect Object by Color (Red)\n",
    "## HSV - Hue Saturation Value\n",
    "import cv2\n",
    "import numpy as np\n",
    "cam = cv2.VideoCapture(0)\n",
    "while True:\n",
    "    ret,img = cam.read()\n",
    "    img = cv2.flip(img,1)\n",
    "    hsv = cv2.cvtColor(img,cv2.COLOR_BGR2HSV)\n",
    "    low = np.array([140,150,0])\n",
    "    high = np.array([180,255,255])\n",
    "    img_mask = cv2.inRange(hsv,low,high)\n",
    "    final_image = cv2.bitwise_and(img,img,mask=img_mask)\n",
    "    cv2.imshow(\"Final Image\",final_image)\n",
    "    cv2.imshow(\"Mask Image\",img_mask)\n",
    "    cv2.imshow(\"HSV\",hsv)\n",
    "    cv2.imshow(\"Original\",img)\n",
    "    if cv2.waitKey(1) == 13:   ### 13 is the ASCII Code for Enter Key\n",
    "        break\n",
    "cam.release()\n",
    "cv2.destroyAllWindows()"
   ]
  },
  {
   "cell_type": "markdown",
   "metadata": {},
   "source": [
    "#### Assignment \n",
    "* 1. Smile Detection for Face\n",
    "* 2. Eye/Smile Detection from Webcam"
   ]
  },
  {
   "cell_type": "code",
   "execution_count": null,
   "metadata": {},
   "outputs": [],
   "source": []
  }
 ],
 "metadata": {
  "kernelspec": {
   "display_name": "Python 3",
   "language": "python",
   "name": "python3"
  },
  "language_info": {
   "codemirror_mode": {
    "name": "ipython",
    "version": 3
   },
   "file_extension": ".py",
   "mimetype": "text/x-python",
   "name": "python",
   "nbconvert_exporter": "python",
   "pygments_lexer": "ipython3",
   "version": "3.7.7"
  }
 },
 "nbformat": 4,
 "nbformat_minor": 4
}
